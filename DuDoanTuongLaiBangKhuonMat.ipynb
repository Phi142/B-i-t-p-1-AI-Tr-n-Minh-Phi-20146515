{
  "nbformat": 4,
  "nbformat_minor": 0,
  "metadata": {
    "colab": {
      "provenance": [],
      "mount_file_id": "1kYPh43kYIs3haF5nzckKrebySdDQeUEp",
      "authorship_tag": "ABX9TyMZRLVgs5L4d9bQgfE1KkLv",
      "include_colab_link": true
    },
    "kernelspec": {
      "name": "python3",
      "display_name": "Python 3"
    },
    "language_info": {
      "name": "python"
    }
  },
  "cells": [
    {
      "cell_type": "markdown",
      "metadata": {
        "id": "view-in-github",
        "colab_type": "text"
      },
      "source": [
        "<a href=\"https://colab.research.google.com/github/Phi142/B-i-t-p-1-AI-Tr-n-Minh-Phi-20146515/blob/main/DuDoanTuongLaiBangKhuonMat.ipynb\" target=\"_parent\"><img src=\"https://colab.research.google.com/assets/colab-badge.svg\" alt=\"Open In Colab\"/></a>"
      ]
    },
    {
      "cell_type": "code",
      "source": [
        "from google.colab import drive\n",
        "drive.mount('/content/drive')"
      ],
      "metadata": {
        "id": "I9tqXvmJyoNn"
      },
      "execution_count": null,
      "outputs": []
    },
    {
      "cell_type": "code",
      "execution_count": null,
      "metadata": {
        "colab": {
          "base_uri": "https://localhost:8080/"
        },
        "id": "yFDnvvZswJ2o",
        "outputId": "7e3cc6d7-6f92-4684-93de-f46556e83756"
      },
      "outputs": [
        {
          "output_type": "stream",
          "name": "stdout",
          "text": [
            "Found 944 images belonging to 16 classes.\n"
          ]
        }
      ],
      "source": [
        "#importing libraries\n",
        "import tensorflow as tf\n",
        "import numpy as np\n",
        "import pandas as pd\n",
        "import matplotlib.pyplot as plt\n",
        "from keras.preprocessing.image import ImageDataGenerator\n",
        "from keras.utils import to_categorical, load_img, img_to_array\n",
        "\n",
        "#Preprocessing để Training \n",
        "# Load ảnh, chia loại, định lại cỡ ảnh 30x40, rescale ảnh và định dạng ảnh về binary\n",
        "train_datagen = ImageDataGenerator(rescale = 1./255,\n",
        "                                    shear_range = 0.2,\n",
        "                                    zoom_range = 0.2,\n",
        "                                    horizontal_flip = True\n",
        "                                  )\n",
        "train_datagen = ImageDataGenerator(rescale = 1./255)\n",
        "training_set = train_datagen.flow_from_directory('/content/drive/MyDrive/AI/Name_class/Training', \n",
        "                                                 target_size = (30,40), \n",
        "                                                 batch_size = 32, \n",
        "                                                 class_mode = 'categorical')"
      ]
    },
    {
      "cell_type": "code",
      "source": [
        "# Load ảnh, chia loại, định lại cỡ ảnh 30x40, rescale ảnh và định dạng ảnh về binary\n",
        "test_datagen = ImageDataGenerator(rescale = 1./255,\n",
        "                                    shear_range = 0.2,\n",
        "                                    zoom_range = 0.2,\n",
        "                                    horizontal_flip = True\n",
        "                                  )\n",
        "test_set = test_datagen.flow_from_directory('/content/drive/MyDrive/AI/Name_class/Test', \n",
        "                                                \n",
        "                                                 target_size = (30,40), \n",
        "                                                 batch_size = 32, \n",
        "                                                class_mode = 'categorical')\n",
        "training_set.class_indices\n",
        "test_set.class_indices"
      ],
      "metadata": {
        "id": "e5c2mJMf0fBV"
      },
      "execution_count": null,
      "outputs": []
    },
    {
      "cell_type": "markdown",
      "source": [
        "**CNN**\n",
        "\n",
        "---\n"
      ],
      "metadata": {
        "id": "GTpzl2Xw6RAD"
      }
    },
    {
      "cell_type": "code",
      "source": [
        "from keras.preprocessing.image import ImageDataGenerator\n",
        "from keras.models import Sequential\n",
        "from keras.layers import Dense, Flatten, Dropout, Conv2D, MaxPooling2D, Normalization\n",
        "import keras.backend as K\n",
        "from keras.layers import LeakyReLU\n",
        "from keras.callbacks import EarlyStopping\n",
        "from keras.utils import to_categorical\n",
        "from keras.optimizers import Adam\n",
        "\n",
        "# Tạo model\n",
        "model = Sequential()\n",
        "#Thêm lớp chuyển đổi\n",
        "model.add(tf.keras.layers.Conv2D(32,(3,3), activation='relu', input_shape=[30,40,3],padding='same')) #3 kênh màu RGB\n",
        "model.add(tf.keras.layers.Conv2D(32,(3,3), activation='relu',padding='same'))\n",
        "model.add(LeakyReLU(alpha=0.1))\n",
        "#Pooling\n",
        "model.add(MaxPooling2D(pool_size=(2,2) , padding = 'same'))\n",
        "#Tích chập lớp thứ 2\n",
        "model.add(Conv2D(64,(3,3), activation = 'relu',padding='same'))\n",
        "model.add(Conv2D(64,(3,3), activation = 'relu',padding='same'))\n",
        "model.add(Dropout( 0.1))\n",
        "model.add(MaxPooling2D(pool_size=(2,2) , padding = 'same'))\n",
        "\n",
        "model.add(Conv2D(128,(3,3), activation = 'relu',padding='same'))\n",
        "model.add(Conv2D(128,(3,3), activation = 'relu',padding='same'))\n",
        "model.add(LeakyReLU(alpha = 0.2))\n",
        "model.add(MaxPooling2D(pool_size=(2,2) , padding = 'same'))\n",
        "#Làm phẳng\n",
        "model.add(Flatten())\n",
        "  # ANN Layer\n",
        "#Connect\n",
        "model.add(Dense(128, activation='relu'))\n",
        "model.add(LeakyReLU(alpha = 0.2))\n",
        "model.add(Dense(32, activation='relu'))\n",
        "model.add(LeakyReLU(alpha = 0.1))\n",
        "\n",
        "#Output\n",
        "model.add(Dense(16, activation='softmax'))\n",
        "model.summary()"
      ],
      "metadata": {
        "id": "UKvC7PkP3oF7"
      },
      "execution_count": null,
      "outputs": []
    },
    {
      "cell_type": "code",
      "source": [
        "\n",
        "# Thiết lập thông số\n",
        "from keras.optimizers import Adam\n",
        "model.compile( loss = 'categorical_crossentropy', optimizer=Adam(), metrics = ['accuracy'])\n"
      ],
      "metadata": {
        "id": "SnXvomco37qz"
      },
      "execution_count": null,
      "outputs": []
    },
    {
      "cell_type": "code",
      "source": [
        "# Huấn luyện\n",
        "# fit the model\n",
        "# Run the cell. It will take some time to execute\n",
        "a = model.fit_generator( training_set, validation_data=test_set, epochs=80, steps_per_epoch=len(training_set), \n",
        "                        validation_steps=len(test_set)\n",
        ")"
      ],
      "metadata": {
        "id": "z16c1F8s6D1B"
      },
      "execution_count": null,
      "outputs": []
    },
    {
      "cell_type": "code",
      "source": [
        "training_set.class_indices"
      ],
      "metadata": {
        "id": "PWqwJRa_DiKk"
      },
      "execution_count": null,
      "outputs": []
    },
    {
      "cell_type": "code",
      "source": [
        "import matplotlib.pyplot as plt\n",
        "# plot the loss\n",
        "plt.plot(a.history['loss'], label='train loss')\n",
        "plt.plot(a.history['val_loss'], label='val loss')\n",
        "plt.legend()\n",
        "plt.show()\n",
        "plt.savefig('LossVal_loss')\n",
        "\n",
        "# plot the accuracy\n",
        "plt.plot(a.history['accuracy'], label='train acc')\n",
        "plt.plot(a.history['val_accuracy'], label='val acc')\n",
        "plt.legend()\n",
        "plt.show()\n",
        "plt.savefig('AccVal_acc')"
      ],
      "metadata": {
        "id": "VB7uUEU3Dl2R"
      },
      "execution_count": null,
      "outputs": []
    },
    {
      "cell_type": "code",
      "source": [
        "# Lưu a h5 file\n",
        "from tensorflow.keras.models import load_model\n",
        "\n",
        "model.save('/content/drive/MyDrive/AI/Name_class/model_inception.h5')\n",
        "\n",
        "\n",
        "from tensorflow.keras.preprocessing import image\n",
        "model=load_model('/content/drive/MyDrive/AI/Name_class/model_inception.h5')\n",
        "model\n",
        "\n",
        "import os\n",
        "os.chdir('/content/drive/MyDrive/AI/Name_class/Valid')\n",
        "\n",
        "!ls"
      ],
      "metadata": {
        "id": "CNgGwg-SDsFo"
      },
      "execution_count": null,
      "outputs": []
    },
    {
      "cell_type": "markdown",
      "source": [
        "**Test**"
      ],
      "metadata": {
        "id": "s9XrarwTEI5R"
      }
    },
    {
      "cell_type": "code",
      "source": [
        "\n",
        "import matplotlib.pyplot as plt\n",
        "from keras.utils import to_categorical, load_img, img_to_array\n",
        "img_data = load_img('/content/drive/MyDrive/AI/Name_class/Valid/Anh9.jpg')\n",
        "img_data = img_to_array(img_data)\n",
        "plt.imshow(img_data/255)"
      ],
      "metadata": {
        "id": "yrr_s_yLELMY"
      },
      "execution_count": null,
      "outputs": []
    },
    {
      "cell_type": "code",
      "source": [
        "\n",
        "training_set.class_indices"
      ],
      "metadata": {
        "id": "l6tharglEfZB"
      },
      "execution_count": null,
      "outputs": []
    },
    {
      "cell_type": "code",
      "source": [
        "\n",
        "\n",
        "import numpy as np\n",
        "from keras.preprocessing import image\n",
        "while 1 :\n",
        " ch = input('Chọn' ' image : ')\n",
        " if (ch=='-'):\n",
        "     break\n",
        " else:\n",
        "   try: \n",
        "     test_image = load_img(\"/content/drive/MyDrive/AI/Name_class/Valid/{}.jpg\".format(ch),\n",
        "                             target_size=(30,40)) #Scale\n",
        "     test_image = img_to_array(test_image)\n",
        "     plt.imshow(test_image/255)\n",
        "     test_image = np.expand_dims(test_image,axis=0)\n",
        "     result = model.predict(test_image)\n",
        "     training_set.class_indices\n",
        "     print(result)\n",
        "     x=0\n",
        "     c=0\n",
        "     i=0\n",
        "     while (i<16):\n",
        "       if result[0][i]>=x:\n",
        "         x=result[0][i]\n",
        "         c=i\n",
        "        \n",
        "       i=i+1\n",
        "     if (x==0 and c==9) :\n",
        "         c=10\n",
        "     if c == 0:\n",
        "       prediction = 'Tương lai sẽ có xe ô tô'\n",
        "     elif c == 1:\n",
        "       prediction = 'Tương lai sẽ có nhà to'\n",
        "     elif c == 2:\n",
        "       prediction = 'Tương lai sẽ có nhà nhỏ'\n",
        "     elif c == 3:\n",
        "       prediction = 'Tương lai sẽ Giàuu'\n",
        "     elif c == 4:\n",
        "       prediction = 'Tương lai sẽ có nhiều vợ'\n",
        "     elif c==5:\n",
        "       prediction ='Tương lai sẽ có nhiều tiền'\n",
        "     elif c == 6:\n",
        "       prediction = 'Sống lâuuu'\n",
        "     elif c == 7:\n",
        "       prediction = 'Tương lai sẽ có cty riêng'\n",
        "     elif c == 8:\n",
        "       prediction = 'Tương lai sẽ có 3 vợ'\n",
        "     elif c==9:\n",
        "       prediction ='Sung sướng'\n",
        "           \n",
        "     print(prediction)\n",
        "   except:\n",
        "      print('Tên của hình ảnh không tồn tại '  )"
      ],
      "metadata": {
        "colab": {
          "base_uri": "https://localhost:8080/",
          "height": 1000
        },
        "id": "BH6DotspEThy",
        "outputId": "114c9a36-0808-4aa2-ea46-b14dd9a14b65"
      },
      "execution_count": null,
      "outputs": [
        {
          "output_type": "stream",
          "name": "stdout",
          "text": [
            "Chọn image : Tri2\n",
            "1/1 [==============================] - 0s 25ms/step\n",
            "[[0. 0. 0. 0. 0. 0. 0. 0. 0. 0. 0. 0. 0. 0. 0. 1.]]\n",
            "Tương lai sẽ có nhà to\n",
            "Chọn image : Chuong\n",
            "1/1 [==============================] - 0s 30ms/step\n",
            "[[0. 0. 1. 0. 0. 0. 0. 0. 0. 0. 0. 0. 0. 0. 0. 0.]]\n",
            "Tương lai sẽ có nhà nhỏ\n",
            "Chọn image : Phi\n",
            "Tên của hình ảnh không tồn tại \n",
            "Chọn image : Fi\n",
            "1/1 [==============================] - 0s 22ms/step\n",
            "[[0. 0. 1. 0. 0. 0. 0. 0. 0. 0. 0. 0. 0. 0. 0. 0.]]\n",
            "Tương lai sẽ có nhà nhỏ\n",
            "Chọn image : MPhi\n",
            "1/1 [==============================] - 0s 34ms/step\n",
            "[[0. 0. 0. 0. 0. 0. 1. 0. 0. 0. 0. 0. 0. 0. 0. 0.]]\n",
            "Sống lâuuu\n"
          ]
        },
        {
          "output_type": "error",
          "ename": "KeyboardInterrupt",
          "evalue": "ignored",
          "traceback": [
            "\u001b[0;31m---------------------------------------------------------------------------\u001b[0m",
            "\u001b[0;31mKeyboardInterrupt\u001b[0m                         Traceback (most recent call last)",
            "\u001b[0;32m<ipython-input-26-3ababe180163>\u001b[0m in \u001b[0;36m<cell line: 4>\u001b[0;34m()\u001b[0m\n\u001b[1;32m      2\u001b[0m \u001b[0;32mfrom\u001b[0m \u001b[0mkeras\u001b[0m\u001b[0;34m.\u001b[0m\u001b[0mpreprocessing\u001b[0m \u001b[0;32mimport\u001b[0m \u001b[0mimage\u001b[0m\u001b[0;34m\u001b[0m\u001b[0;34m\u001b[0m\u001b[0m\n\u001b[1;32m      3\u001b[0m \u001b[0;32mwhile\u001b[0m \u001b[0;36m1\u001b[0m \u001b[0;34m:\u001b[0m\u001b[0;34m\u001b[0m\u001b[0;34m\u001b[0m\u001b[0m\n\u001b[0;32m----> 4\u001b[0;31m  \u001b[0mch\u001b[0m \u001b[0;34m=\u001b[0m \u001b[0minput\u001b[0m\u001b[0;34m(\u001b[0m\u001b[0;34m'Chọn'\u001b[0m \u001b[0;34m' image : '\u001b[0m\u001b[0;34m)\u001b[0m\u001b[0;34m\u001b[0m\u001b[0;34m\u001b[0m\u001b[0m\n\u001b[0m\u001b[1;32m      5\u001b[0m  \u001b[0;32mif\u001b[0m \u001b[0;34m(\u001b[0m\u001b[0mch\u001b[0m\u001b[0;34m==\u001b[0m\u001b[0;34m'-'\u001b[0m\u001b[0;34m)\u001b[0m\u001b[0;34m:\u001b[0m\u001b[0;34m\u001b[0m\u001b[0;34m\u001b[0m\u001b[0m\n\u001b[1;32m      6\u001b[0m      \u001b[0;32mbreak\u001b[0m\u001b[0;34m\u001b[0m\u001b[0;34m\u001b[0m\u001b[0m\n",
            "\u001b[0;32m/usr/local/lib/python3.9/dist-packages/ipykernel/kernelbase.py\u001b[0m in \u001b[0;36mraw_input\u001b[0;34m(self, prompt)\u001b[0m\n\u001b[1;32m    849\u001b[0m                 \u001b[0;34m\"raw_input was called, but this frontend does not support input requests.\"\u001b[0m\u001b[0;34m\u001b[0m\u001b[0;34m\u001b[0m\u001b[0m\n\u001b[1;32m    850\u001b[0m             )\n\u001b[0;32m--> 851\u001b[0;31m         return self._input_request(str(prompt),\n\u001b[0m\u001b[1;32m    852\u001b[0m             \u001b[0mself\u001b[0m\u001b[0;34m.\u001b[0m\u001b[0m_parent_ident\u001b[0m\u001b[0;34m,\u001b[0m\u001b[0;34m\u001b[0m\u001b[0;34m\u001b[0m\u001b[0m\n\u001b[1;32m    853\u001b[0m             \u001b[0mself\u001b[0m\u001b[0;34m.\u001b[0m\u001b[0m_parent_header\u001b[0m\u001b[0;34m,\u001b[0m\u001b[0;34m\u001b[0m\u001b[0;34m\u001b[0m\u001b[0m\n",
            "\u001b[0;32m/usr/local/lib/python3.9/dist-packages/ipykernel/kernelbase.py\u001b[0m in \u001b[0;36m_input_request\u001b[0;34m(self, prompt, ident, parent, password)\u001b[0m\n\u001b[1;32m    893\u001b[0m             \u001b[0;32mexcept\u001b[0m \u001b[0mKeyboardInterrupt\u001b[0m\u001b[0;34m:\u001b[0m\u001b[0;34m\u001b[0m\u001b[0;34m\u001b[0m\u001b[0m\n\u001b[1;32m    894\u001b[0m                 \u001b[0;31m# re-raise KeyboardInterrupt, to truncate traceback\u001b[0m\u001b[0;34m\u001b[0m\u001b[0;34m\u001b[0m\u001b[0m\n\u001b[0;32m--> 895\u001b[0;31m                 \u001b[0;32mraise\u001b[0m \u001b[0mKeyboardInterrupt\u001b[0m\u001b[0;34m(\u001b[0m\u001b[0;34m\"Interrupted by user\"\u001b[0m\u001b[0;34m)\u001b[0m \u001b[0;32mfrom\u001b[0m \u001b[0;32mNone\u001b[0m\u001b[0;34m\u001b[0m\u001b[0;34m\u001b[0m\u001b[0m\n\u001b[0m\u001b[1;32m    896\u001b[0m             \u001b[0;32mexcept\u001b[0m \u001b[0mException\u001b[0m \u001b[0;32mas\u001b[0m \u001b[0me\u001b[0m\u001b[0;34m:\u001b[0m\u001b[0;34m\u001b[0m\u001b[0;34m\u001b[0m\u001b[0m\n\u001b[1;32m    897\u001b[0m                 \u001b[0mself\u001b[0m\u001b[0;34m.\u001b[0m\u001b[0mlog\u001b[0m\u001b[0;34m.\u001b[0m\u001b[0mwarning\u001b[0m\u001b[0;34m(\u001b[0m\u001b[0;34m\"Invalid Message:\"\u001b[0m\u001b[0;34m,\u001b[0m \u001b[0mexc_info\u001b[0m\u001b[0;34m=\u001b[0m\u001b[0;32mTrue\u001b[0m\u001b[0;34m)\u001b[0m\u001b[0;34m\u001b[0m\u001b[0;34m\u001b[0m\u001b[0m\n",
            "\u001b[0;31mKeyboardInterrupt\u001b[0m: Interrupted by user"
          ]
        },
        {
          "output_type": "display_data",
          "data": {
            "text/plain": [
              "<Figure size 640x480 with 1 Axes>"
            ],
            "image/png": "[encoded data removed]"
          },
          "metadata": {}
        }
      ]
    }
  ]
}